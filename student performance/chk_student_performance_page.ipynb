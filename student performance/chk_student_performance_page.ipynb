{
 "cells": [
  {
   "cell_type": "code",
   "execution_count": 1,
   "id": "486f2e23-e396-4862-9ede-111fac560620",
   "metadata": {},
   "outputs": [],
   "source": [
    "import joblib\n",
    "import pandas as pd\n",
    "import numpy as np"
   ]
  },
  {
   "cell_type": "code",
   "execution_count": 2,
   "id": "9685aa7d-8928-4a50-bbd3-d126c44a13ea",
   "metadata": {},
   "outputs": [],
   "source": [
    "model=joblib.load('student_performance.pkl')"
   ]
  },
  {
   "cell_type": "code",
   "execution_count": 11,
   "id": "56fa43a8-600c-4137-8f4b-2afd22e0618e",
   "metadata": {},
   "outputs": [],
   "source": [
    "def studentperformance():\n",
    "    HoursStudied  =int(input(\"Enter how much  time give you on studies :\"))           \n",
    "    PreviousScores =int(input(\"Enter last year score from 100 : \"))\n",
    "    SleepHours   =int(input(\"Enter your sleep hours per day :\"))                    \n",
    "    SampleQuestionPapersPracticed = int(input(\"How many  sample papers you solved : \"))\n",
    "    input_data=pd.DataFrame({\n",
    "    'Hours Studied': [HoursStudied],\n",
    "    'Previous Scores' :[PreviousScores],\n",
    "    'Sleep Hours' :[SleepHours],\n",
    "    'Sample Question Papers Practiced' :[SampleQuestionPapersPracticed]\n",
    "   })\n",
    "    output=model.predict(input_data)\n",
    "    print(f\"Performance Of Student:{output[0]}\")\n",
    "\n",
    "\n"
   ]
  },
  {
   "cell_type": "code",
   "execution_count": 13,
   "id": "4d3719af-a0a1-4436-845f-b62c3ef5c16c",
   "metadata": {},
   "outputs": [
    {
     "name": "stdin",
     "output_type": "stream",
     "text": [
      "Enter how much  time give you on studies : 7\n",
      "Enter last year score from 100 :  100\n",
      "Enter your sleep hours per day : 6\n",
      "How many  sample papers you solved :  7\n"
     ]
    },
    {
     "name": "stdout",
     "output_type": "stream",
     "text": [
      "Performance Of Student:[92.28994989]\n"
     ]
    }
   ],
   "source": [
    "studentperformance()"
   ]
  }
 ],
 "metadata": {
  "kernelspec": {
   "display_name": "Python 3 (ipykernel)",
   "language": "python",
   "name": "python3"
  },
  "language_info": {
   "codemirror_mode": {
    "name": "ipython",
    "version": 3
   },
   "file_extension": ".py",
   "mimetype": "text/x-python",
   "name": "python",
   "nbconvert_exporter": "python",
   "pygments_lexer": "ipython3",
   "version": "3.12.7"
  }
 },
 "nbformat": 4,
 "nbformat_minor": 5
}
