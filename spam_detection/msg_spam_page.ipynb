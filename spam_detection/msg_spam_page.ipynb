{
 "cells": [
  {
   "cell_type": "code",
   "execution_count": 3,
   "id": "9be1bcd9-982a-46ef-89a3-d80f3599778e",
   "metadata": {},
   "outputs": [],
   "source": [
    "import joblib\n",
    "import pandas as pd\n",
    "model=joblib.load('Email_spam.pkl')\n",
    "\n",
    "loaded_vectorizer = joblib.load('count_vectorizer.joblib')\n",
    "\n"
   ]
  },
  {
   "cell_type": "code",
   "execution_count": 4,
   "id": "7821f063-3ffd-408b-9893-e56e108d0f4e",
   "metadata": {},
   "outputs": [
    {
     "name": "stdin",
     "output_type": "stream",
     "text": [
      "Enter the massage hello come fast\n"
     ]
    },
    {
     "name": "stdout",
     "output_type": "stream",
     "text": [
      "0\n",
      "Message is not spam\n"
     ]
    }
   ],
   "source": [
    "def chk_email():\n",
    "    msg=str(input(\"Enter the massage\"))\n",
    "   \n",
    "    x_test = pd.DataFrame({'Message': [msg]})\n",
    "    x_test_count = loaded_vectorizer.transform(x_test['Message'])\n",
    "    \n",
    "    op=model.predict(x_test_count)\n",
    "    \n",
    "    if op[0]==0 :\n",
    "        print(\"Message is not spam\")\n",
    "    else:\n",
    "        print(\"Message is Spam\")\n",
    "chk_email()"
   ]
  },
  {
   "cell_type": "code",
   "execution_count": null,
   "id": "47d41bdc-9b8a-4b48-a118-3b56a2c139a3",
   "metadata": {},
   "outputs": [],
   "source": []
  }
 ],
 "metadata": {
  "kernelspec": {
   "display_name": "Python 3 (ipykernel)",
   "language": "python",
   "name": "python3"
  },
  "language_info": {
   "codemirror_mode": {
    "name": "ipython",
    "version": 3
   },
   "file_extension": ".py",
   "mimetype": "text/x-python",
   "name": "python",
   "nbconvert_exporter": "python",
   "pygments_lexer": "ipython3",
   "version": "3.12.7"
  }
 },
 "nbformat": 4,
 "nbformat_minor": 5
}
