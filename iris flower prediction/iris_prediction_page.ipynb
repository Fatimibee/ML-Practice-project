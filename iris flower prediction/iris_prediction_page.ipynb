{
 "cells": [
  {
   "cell_type": "code",
   "execution_count": 7,
   "id": "20965bd0-4760-47dd-ab6c-ad475c8c840c",
   "metadata": {},
   "outputs": [],
   "source": [
    "import joblib\n",
    "import pandas as pd"
   ]
  },
  {
   "cell_type": "code",
   "execution_count": 2,
   "id": "60c5620b-aa5a-4b86-9919-53c3b7f84861",
   "metadata": {},
   "outputs": [],
   "source": [
    "model=joblib.load('iris_prediction.pkl')"
   ]
  },
  {
   "cell_type": "code",
   "execution_count": 13,
   "id": "e6917213-5833-46b8-95d4-5a31864765cb",
   "metadata": {},
   "outputs": [
    {
     "name": "stdin",
     "output_type": "stream",
     "text": [
      "Enter the sepal length of flower :  5.3\n",
      "Enter the sepal width of flower :  1.5\n",
      "Enter the petal length of flower :  4.3\n",
      "Enter the petal width of flower :  3.7\n"
     ]
    },
    {
     "name": "stdout",
     "output_type": "stream",
     "text": [
      "[1]\n",
      "The predicted flower is: Virginica\n"
     ]
    }
   ],
   "source": [
    "def prediction():\n",
    "    sepal_length=float(input(\"Enter the sepal length of flower : \"))\n",
    "    sepal_width=float(input(\"Enter the sepal width of flower : \"))\n",
    "    petal_length=float(input(\"Enter the petal length of flower : \"))\n",
    "    petal_width=float(input(\"Enter the petal width of flower : \"))\n",
    "    X_test = pd.DataFrame([{\n",
    "        'sepal_length': sepal_length,\n",
    "        'sepal_width': sepal_width,\n",
    "        'petal_length': petal_length,\n",
    "        'petal_width': petal_width\n",
    "    }])\n",
    "\n",
    "    out_val=model.predict(X_test)\n",
    "    print(out_val)\n",
    "    if out_val == 0:\n",
    "        print(\"The predicted flower is: Versicolor\")\n",
    "    elif out_val == 1:\n",
    "        print(\"The predicted flower is: Virginica\")\n",
    "    else:\n",
    "       print(\"The predicted flower is: Unknown\")\n",
    "    \n",
    "\n",
    "prediction()\n",
    "\n",
    "\n",
    "  "
   ]
  }
 ],
 "metadata": {
  "kernelspec": {
   "display_name": "Python 3 (ipykernel)",
   "language": "python",
   "name": "python3"
  },
  "language_info": {
   "codemirror_mode": {
    "name": "ipython",
    "version": 3
   },
   "file_extension": ".py",
   "mimetype": "text/x-python",
   "name": "python",
   "nbconvert_exporter": "python",
   "pygments_lexer": "ipython3",
   "version": "3.12.7"
  }
 },
 "nbformat": 4,
 "nbformat_minor": 5
}
